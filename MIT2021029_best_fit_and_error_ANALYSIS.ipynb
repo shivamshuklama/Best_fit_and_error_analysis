{
 "cells": [
  {
   "cell_type": "code",
   "execution_count": 3,
   "metadata": {},
   "outputs": [
    {
     "name": "stdout",
     "output_type": "stream",
     "text": [
      "y = 9898.47518 * x + -16132995.92641\n"
     ]
    },
    {
     "data": {
      "image/png": "[encoded data removed]",
      "text/plain": [
       "<Figure size 432x288 with 1 Axes>"
      ]
     },
     "metadata": {
      "needs_background": "light"
     },
     "output_type": "display_data"
    }
   ],
   "source": [
    "# fit a straight line to the economic data\n",
    "from numpy import arange\n",
    "from pandas import read_csv\n",
    "from scipy.optimize import curve_fit\n",
    "from matplotlib import pyplot\n",
    " \n",
    "# objective function\n",
    "def objective(x, a, b):\n",
    "\treturn a * x + b\n",
    " \n",
    "# loading dataset\n",
    "\n",
    "dataframe1 = read_csv(\"C:/Users/ashiv/OneDrive/Documents/c++/datax.csv\")\n",
    "data1 = dataframe1.values\n",
    "\n",
    "dataframe2 = read_csv(\"C:/Users/ashiv/OneDrive/Documents/c++/datay.csv\")\n",
    "data2 = dataframe2.values\n",
    "\n",
    "# taking the input and output variables\n",
    "x = []; y = []\n",
    "for i in data1:\n",
    "    x.append(i[0])\n",
    "for i in data2:\n",
    "    y.append(i[0])\n",
    "#print(x, y);\n",
    "\n",
    "\n",
    "popt, _ = curve_fit(objective, x, y)\n",
    "# summarize the parameter values\n",
    "a, b = popt\n",
    "print('y = %.5f * x + %.5f' % (a, b))\n",
    "\n",
    "# plotting input vs output\n",
    "pyplot.scatter(x, y)\n",
    "\n",
    "# defining a sequence of inputs between the smallest and largest known inputs\n",
    "x_line = arange(min(x), max(x), 1)\n",
    "\n",
    "# calculating the output for the range\n",
    "y_line = objective(x_line, a, b)\n",
    "\n",
    "# creating a line plot for the mapping function\n",
    "pyplot.plot(x_line, y_line, '--', color='red')\n",
    "\n",
    "pyplot.show()\n",
    "\n"
   ]
  },
  {
   "cell_type": "code",
   "execution_count": 102,
   "metadata": {},
   "outputs": [
    {
     "name": "stdout",
     "output_type": "stream",
     "text": [
      "8440379.483444182\n"
     ]
    }
   ],
   "source": [
    "import numpy as np\n",
    "\n",
    "n = len(x)\n",
    "yg = []; \n",
    "for i in x: \n",
    "    y_output = (9898.47518 * i) - 16132995.92641\n",
    "    yg.append(y_output)\n",
    "err = list(np.array(yg) - np.array(y))\n",
    "err = np.multiply(err, err)\n",
    "err = np.sum(err)\n",
    "rmse = np.sqrt(err / n)\n",
    "\n",
    "\n",
    "print(rmse)"
   ]
  },
  {
   "cell_type": "code",
   "execution_count": 88,
   "metadata": {},
   "outputs": [
    {
     "name": "stdout",
     "output_type": "stream",
     "text": [
      "r_squared1 is 0.9204839237939222\n"
     ]
    }
   ],
   "source": [
    "import numpy as np\n",
    "\n",
    "n = len(x)\n",
    "yp_list1 = []; \n",
    "for i in x: \n",
    "    yp1 = 9898.47518 * i - 16132995.92641\n",
    "    yp_list1.append(yp1)\n",
    "    \n",
    "ss_res1 = np.sum((np.subtract(yp_list1,y))**2)\n",
    "ss_tot1 = sum((y-np.mean(y))**2)   \n",
    "r_squared1 = 1 - (ss_res1/ss_tot1)\n",
    "print(\"r_squared1 is\",r_squared1)"
   ]
  },
  {
   "cell_type": "code",
   "execution_count": 96,
   "metadata": {},
   "outputs": [
    {
     "name": "stdout",
     "output_type": "stream",
     "text": [
      "y = -471.39424 * x + 0.94174 * x^2 + 4487339.67529\n"
     ]
    },
    {
     "data": {
      "image/png": "[encoded data removed]",
      "text/plain": [
       "<Figure size 432x288 with 1 Axes>"
      ]
     },
     "metadata": {
      "needs_background": "light"
     },
     "output_type": "display_data"
    }
   ],
   "source": [
    "\n",
    "# fitting a second degree polynomial to the economic data\n",
    "from numpy import arange\n",
    "from pandas import read_csv\n",
    "from scipy.optimize import curve_fit\n",
    "from matplotlib import pyplot\n",
    " \n",
    "# objective function\n",
    "def objective(x, a, b, c):\n",
    "\treturn a * x + b * x**2 + c\n",
    " \n",
    "# load the dataset\n",
    "dataframe1 = read_csv(\"C:/Users/ashiv/OneDrive/Documents/c++/datax.csv\")\n",
    "data1 = dataframe1.values\n",
    "\n",
    "dataframe2 = read_csv(\"C:/Users/ashiv/OneDrive/Documents/c++/datay.csv\")\n",
    "data2 = dataframe2.values\n",
    "\n",
    "x = []; y = [];\n",
    "for i in data1:\n",
    "    x.append(i[0]);\n",
    "for i in data2:\n",
    "    y.append(i[0]);\n",
    "    \n",
    "#print(x, y);\n",
    "# curve fit\n",
    "popt, _ = curve_fit(objective, x, y)\n",
    "\n",
    "a, b, c = popt\n",
    "print('y = %.5f * x + %.5f * x^2 + %.5f' % (a, b, c))\n",
    "\n",
    "pyplot.scatter(x, y)\n",
    "\n",
    "x_line = arange(min(x), max(x), 1)\n",
    "\n",
    "y_line = objective(x_line, a, b, c)\n",
    "\n",
    "pyplot.plot(x_line, y_line, '--', color='red')\n",
    "pyplot.show()"
   ]
  },
  {
   "cell_type": "code",
   "execution_count": 34,
   "metadata": {},
   "outputs": [
    {
     "name": "stdout",
     "output_type": "stream",
     "text": [
      "slope 9898.475188507673\n",
      "intercept -16132996.003867298\n",
      "r_value 0.9594185342143036\n",
      "p_value 0.0\n"
     ]
    }
   ],
   "source": [
    "from scipy import stats, optimize, interpolate\n",
    "slope, intercept, r_value, p_value, std_err = stats.linregress(x, y)\n",
    "print(\"slope\",slope)\n",
    "print(\"intercept\",intercept)\n",
    "print(\"r_value\",r_value)\n",
    "print(\"p_value\",p_value)"
   ]
  },
  {
   "cell_type": "code",
   "execution_count": 87,
   "metadata": {},
   "outputs": [
    {
     "name": "stdout",
     "output_type": "stream",
     "text": [
      "r_squared2 is 0.9787066261798119\n"
     ]
    }
   ],
   "source": [
    "import numpy as np\n",
    "\n",
    "n = len(x)\n",
    "yp_list2 = []; \n",
    "for i in x: \n",
    "    yp2 = (-471.39424 * i) + (0.94174 * i*i) + 4487339.67529\n",
    "    yp_list2.append(yp2)\n",
    "    \n",
    "ss_res2 = np.sum((np.subtract(yp_list2,y))**2)\n",
    "ss_tot2 = sum((y-np.mean(y))**2)   \n",
    "r_squared2 = 1 - (ss_res2/ss_tot2)\n",
    "print(\"r_squared2 is\" , r_squared2)"
   ]
  },
  {
   "cell_type": "code",
   "execution_count": 106,
   "metadata": {},
   "outputs": [
    {
     "name": "stdout",
     "output_type": "stream",
     "text": [
      "4367739.635021541\n"
     ]
    }
   ],
   "source": [
    "import numpy as np\n",
    "\n",
    "n = len(x)\n",
    "yg = []; \n",
    "for i in x: \n",
    "    y_output = (-471.39424 * i) + (0.94174 * i*i) + 4487339.67529\n",
    "    yg.append(y_output)\n",
    "err = list(np.array(yg) - np.array(y))\n",
    "err = np.multiply(err, err)\n",
    "err = np.sum(err)\n",
    "rmse = np.sqrt(err / n)\n",
    "\n",
    "\n",
    "print(rmse)\n",
    "    \n",
    "\n"
   ]
  },
  {
   "cell_type": "code",
   "execution_count": 107,
   "metadata": {},
   "outputs": [
    {
     "name": "stdout",
     "output_type": "stream",
     "text": [
      "y = -2239.14780 * x + 1.32894 * x^2 + -0.00002 * x^3 +  6404174.68672\n"
     ]
    },
    {
     "data": {
      "image/png": "[encoded data removed]",
      "text/plain": [
       "<Figure size 432x288 with 1 Axes>"
      ]
     },
     "metadata": {
      "needs_background": "light"
     },
     "output_type": "display_data"
    }
   ],
   "source": [
    "# fitting a second degree polynomial to the economic data\n",
    "from numpy import arange\n",
    "from pandas import read_csv\n",
    "from scipy.optimize import curve_fit\n",
    "from matplotlib import pyplot\n",
    " \n",
    "# objective function\n",
    "def objective(x, a, b, c , d):\n",
    "\treturn a * x + b * x**2 + c * x**3 + d\n",
    " \n",
    "# load the dataset\n",
    "dataframe1 = read_csv(\"C:/Users/ashiv/OneDrive/Documents/c++/datax.csv\")\n",
    "data1 = dataframe1.values\n",
    "\n",
    "dataframe2 = read_csv(\"C:/Users/ashiv/OneDrive/Documents/c++/datay.csv\")\n",
    "data2 = dataframe2.values\n",
    "\n",
    "x = []; y = [];\n",
    "for i in data1:\n",
    "    x.append(i[0]);\n",
    "for i in data2:\n",
    "    y.append(i[0]);\n",
    "    \n",
    "#print(x, y);\n",
    "# curve fit\n",
    "popt, _ = curve_fit(objective, x, y)\n",
    "\n",
    "a, b, c , d = popt\n",
    "print('y = %.5f * x + %.5f * x^2 + %.5f * x^3 +  %.5f' % (a, b, c , d))\n",
    "\n",
    "pyplot.scatter(x, y)\n",
    "\n",
    "x_line = arange(min(x), max(x), 1)\n",
    "\n",
    "y_line = objective(x_line, a, b, c ,d)\n",
    "\n",
    "pyplot.plot(x_line, y_line, '--', color='red')\n",
    "pyplot.show()"
   ]
  },
  {
   "cell_type": "code",
   "execution_count": 111,
   "metadata": {},
   "outputs": [
    {
     "name": "stdout",
     "output_type": "stream",
     "text": [
      "r_squared3 is 0.976205277109646\n"
     ]
    }
   ],
   "source": [
    "import numpy as np\n",
    "\n",
    "n = len(x)\n",
    "yp_list3 = []; \n",
    "for i in x: \n",
    "    yp3 = -2239.14780 * i + 1.32894 * i**2 + -0.00002 * i**3 +  6404174.68672\n",
    "    yp_list3.append(yp3)\n",
    "    \n",
    "ss_res3 = np.sum((np.subtract(yp_list3,y))**2)\n",
    "ss_tot3 = sum((y-np.mean(y))**2)   \n",
    "r_squared3 = 1 - (ss_res3/ss_tot3)\n",
    "print(\"r_squared3 is\" , r_squared3)"
   ]
  }
 ],
 "metadata": {
  "interpreter": {
   "hash": "75ffe16b5f12bc3f7593ac526ff6fdac65bbd5dd5ac20ad7645f8f2981c822d6"
  },
  "kernelspec": {
   "display_name": "Python 3.9.5 64-bit ('base': conda)",
   "language": "python",
   "name": "python3"
  },
  "language_info": {
   "codemirror_mode": {
    "name": "ipython",
    "version": 3
   },
   "file_extension": ".py",
   "mimetype": "text/x-python",
   "name": "python",
   "nbconvert_exporter": "python",
   "pygments_lexer": "ipython3",
   "version": "3.9.5"
  },
  "orig_nbformat": 4
 },
 "nbformat": 4,
 "nbformat_minor": 2
}
